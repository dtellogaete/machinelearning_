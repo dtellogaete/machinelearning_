{
 "cells": [
  {
   "cell_type": "markdown",
   "metadata": {},
   "source": [
    "# Regresión Lineal Múltiple"
   ]
  },
  {
   "cell_type": "markdown",
   "metadata": {},
   "source": [
    "**Restricciones de Regresión Lineal**\n",
    "* 1.- Linealidad\n",
    "* 2- Homocedasticidad\n",
    "* 3- Normalidad multivariable\n",
    "* 4- Independencia de los errores\n",
    "* 5- Ausencia de multicolinealidad\n",
    "\n",
    "Siempre se debe omitir una variable Dummy"
   ]
  },
  {
   "cell_type": "markdown",
   "metadata": {},
   "source": [
    "## Construir modelo de regresión lineal multiple"
   ]
  },
  {
   "cell_type": "markdown",
   "metadata": {},
   "source": [
    "- Primero eliminar variables para obtener un mejor modelo.\n",
    "- No por añadir más variables van a tener más información (será un modelo lleno de basura)\n",
    "\n",
    "### 5 metodos de construir modelos\n",
    "* Exhautivo (all in)\n",
    "* Eliminación hacia atrás\n",
    "* Selección hacia adelante\n",
    "* Eliminación Bidireccional\n",
    "* Compilación de scores."
   ]
  },
  {
   "cell_type": "markdown",
   "metadata": {},
   "source": [
    "### ALL IN\n",
    "Ingresa todas las variables al modelo.\n",
    "* Conocimiento a priori. \n",
    "* Necesidad. \n",
    "* Prepatación previa para la eliminación hacia atrás.\n",
    "\n",
    "### Eliminación hacia atrás\n",
    "**Paso 1**. Seleccionar el nivel de significación para permanecer en el modelo (p.e. SL=0.05).\n",
    "\n",
    "**Paso 2**. Se calcula el modelo con todas las posibles variables predictoras.\n",
    "\n",
    "**Paso 3**. Considera la variable predictora con el p-valor *más grande*. Si P>SL, entonces vamos al Paso 4, si no vamos a FIN.\n",
    "\n",
    "**Paso 4**. Se elimina la variable predictora\n",
    "\n",
    "**Paso 5**. Ajustar el modelo sin dicha variable."
   ]
  }
 ],
 "metadata": {
  "kernelspec": {
   "display_name": "Python 3",
   "language": "python",
   "name": "python3"
  },
  "language_info": {
   "codemirror_mode": {
    "name": "ipython",
    "version": 3
   },
   "file_extension": ".py",
   "mimetype": "text/x-python",
   "name": "python",
   "nbconvert_exporter": "python",
   "pygments_lexer": "ipython3",
   "version": "3.7.3"
  }
 },
 "nbformat": 4,
 "nbformat_minor": 2
}
