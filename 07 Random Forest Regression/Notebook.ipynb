{
 "cells": [
  {
   "cell_type": "markdown",
   "metadata": {},
   "source": [
    "# Ideas de los bosques aleatorios"
   ]
  },
  {
   "cell_type": "markdown",
   "metadata": {},
   "source": [
    "* Paso 1: Elegir un número aleatorio K de puntos de datos del conjunto de entrenamiento.\n",
    "\n",
    "* Paso 2: Construir el árbol de decisión asociado a esos K Puntos de Datos.\n",
    "\n",
    "* Paso 3: Elegir el número **Ntree** de árboles que queremos construir y repetimos los PASOS 1 y 2.\n",
    "\n",
    "* Paso 4: Para un nuevo punto de datos, hacer que cada uno de los **Ntree** árboles haga una predicción del valor de Y para el punto cuestion, y asigne al nuevo punto la predicción final basada en el promedio de todas las predicciones Y de los árboles."
   ]
  }
 ],
 "metadata": {
  "kernelspec": {
   "display_name": "Python 3",
   "language": "python",
   "name": "python3"
  },
  "language_info": {
   "codemirror_mode": {
    "name": "ipython",
    "version": 3
   },
   "file_extension": ".py",
   "mimetype": "text/x-python",
   "name": "python",
   "nbconvert_exporter": "python",
   "pygments_lexer": "ipython3",
   "version": "3.7.3"
  }
 },
 "nbformat": 4,
 "nbformat_minor": 2
}
